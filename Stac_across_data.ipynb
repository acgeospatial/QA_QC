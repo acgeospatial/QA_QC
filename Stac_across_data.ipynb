{
 "cells": [
  {
   "cell_type": "markdown",
   "id": "51430f4f",
   "metadata": {},
   "source": [
    "Basically copied from the excellen"
   ]
  },
  {
   "cell_type": "code",
   "execution_count": null,
   "id": "067c57ce",
   "metadata": {},
   "outputs": [],
   "source": [
    "import pystac\n",
    "import rasterio\n",
    "from shapely.geometry import Polygon, mapping\n",
    "import json\n",
    "import os\n",
    "from datetime import datetime"
   ]
  },
  {
   "cell_type": "code",
   "execution_count": null,
   "id": "874fcae3",
   "metadata": {},
   "outputs": [],
   "source": [
    "def get_bbox_and_footprint(raster_uri):\n",
    "    with rasterio.open(raster_uri) as ds:\n",
    "        bounds = ds.bounds\n",
    "        bbox = [bounds.left, bounds.bottom, bounds.right, bounds.top]\n",
    "        footprint = Polygon([\n",
    "            [bounds.left, bounds.bottom],\n",
    "            [bounds.left, bounds.top],\n",
    "            [bounds.right, bounds.top],\n",
    "            [bounds.right, bounds.bottom]\n",
    "        ])\n",
    "\n",
    "        return (bbox, mapping(footprint))"
   ]
  },
  {
   "cell_type": "code",
   "execution_count": null,
   "id": "f796b8b6",
   "metadata": {},
   "outputs": [],
   "source": [
    "def add_item(img_path, name):\n",
    "    bbox, footprint = get_bbox_and_footprint(img_path)\n",
    "    item = pystac.Item(id=name,\n",
    "                 geometry=footprint,\n",
    "                 bbox=bbox,\n",
    "                 datetime=datetime.utcnow(),\n",
    "                 properties={})\n",
    "    catalog.add_item(item)\n",
    "    "
   ]
  },
  {
   "cell_type": "code",
   "execution_count": null,
   "id": "e38f9b52",
   "metadata": {},
   "outputs": [],
   "source": [
    "catalog = pystac.Catalog(id='20211216_raster_work', description='project')\n",
    "mydir = r\"...\\data\"\n",
    "for file in os.listdir(mydir):\n",
    "    if file.endswith((\".tif\")): \n",
    "        fullfile = os.path.join(mydir, file)\n",
    "        add_item(fullfile, file)"
   ]
  },
  {
   "cell_type": "code",
   "execution_count": null,
   "id": "b582824c",
   "metadata": {},
   "outputs": [],
   "source": [
    "catalog.normalize_hrefs(os.path.join(mydir, '20211216_raster_work'))\n",
    "catalog.save(catalog_type=pystac.CatalogType.SELF_CONTAINED)\n",
    "catalog.save(catalog_type=pystac.CatalogType.ABSOLUTE_PUBLISHED)"
   ]
  },
  {
   "cell_type": "code",
   "execution_count": null,
   "id": "970089b3",
   "metadata": {},
   "outputs": [],
   "source": [
    "import json\n",
    "\n",
    "json_file = r'...\\data\\20211216_raster_work/catalog.json'\n",
    "\n",
    "print('Opening JSON file...')\n",
    "with open(json_file) as f:\n",
    "    data = json.load(f)\n",
    "    print('JSON file opened.')\n",
    "\n",
    "print('Printing data...')\n",
    "\n",
    "for link in data['links']:\n",
    "    if link['href'].find('NAME_OF_FILE_YOU_WANT_TO_INSPECT') != -1:\n",
    "        with open(link['href'], 'rb') as f1:\n",
    "            new_raster = json.load(f1)\n",
    "            print(new_raster)"
   ]
  },
  {
   "cell_type": "code",
   "execution_count": null,
   "id": "9b7c74ec",
   "metadata": {},
   "outputs": [],
   "source": []
  }
 ],
 "metadata": {
  "kernelspec": {
   "display_name": "geo",
   "language": "python",
   "name": "geo"
  },
  "language_info": {
   "codemirror_mode": {
    "name": "ipython",
    "version": 3
   },
   "file_extension": ".py",
   "mimetype": "text/x-python",
   "name": "python",
   "nbconvert_exporter": "python",
   "pygments_lexer": "ipython3",
   "version": "3.9.7"
  }
 },
 "nbformat": 4,
 "nbformat_minor": 5
}
